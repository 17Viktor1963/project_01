{
  "nbformat": 4,
  "nbformat_minor": 0,
  "metadata": {
    "colab": {
      "provenance": [],
      "toc_visible": true,
      "authorship_tag": "ABX9TyP3f3IIKDWXHw44/fv44iPJ",
      "include_colab_link": true
    },
    "kernelspec": {
      "name": "python3",
      "display_name": "Python 3"
    },
    "language_info": {
      "name": "python"
    }
  },
  "cells": [
    {
      "cell_type": "markdown",
      "metadata": {
        "id": "view-in-github",
        "colab_type": "text"
      },
      "source": [
        "<a href=\"https://colab.research.google.com/github/17Viktor1963/project_01/blob/main/task_1_1.ipynb\" target=\"_parent\"><img src=\"https://colab.research.google.com/assets/colab-badge.svg\" alt=\"Open In Colab\"/></a>"
      ]
    },
    {
      "cell_type": "code",
      "execution_count": null,
      "metadata": {
        "id": "q2NdHBBHP9ov"
      },
      "outputs": [],
      "source": []
    },
    {
      "cell_type": "markdown",
      "source": [
        "Задача 1.Решение"
      ],
      "metadata": {
        "id": "1EmSX2LDQq5t"
      }
    },
    {
      "cell_type": "code",
      "source": [
        "my_favorite_songs = ' Waste a Moment, Staying\\' Alive, A Sorta Fairytale, Start Me Up, New Salvation' \n",
        "print(my_favorite_songs.split(',')[0]) # Выводит первый трек\n",
        "print(my_favorite_songs.split(',')[-1]) # Выводит последний трек \n",
        "print(my_favorite_songs.split(',')[1]) # Выводит второй трек\n",
        "print(my_favorite_songs.split(',')[-2]) # Второй с конца"
      ],
      "metadata": {
        "colab": {
          "base_uri": "https://localhost:8080/"
        },
        "id": "9ReczBB1Q2Lc",
        "outputId": "decad09e-c7fa-43b3-a4a4-846e5ca53713"
      },
      "execution_count": 8,
      "outputs": [
        {
          "output_type": "stream",
          "name": "stdout",
          "text": [
            " Waste a Moment\n",
            " New Salvation\n",
            " Staying' Alive\n",
            " Start Me Up\n"
          ]
        }
      ]
    },
    {
      "cell_type": "markdown",
      "source": [],
      "metadata": {
        "id": "HgoX5dXQQnDk"
      }
    }
  ]
}