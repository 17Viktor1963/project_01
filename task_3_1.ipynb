{
  "nbformat": 4,
  "nbformat_minor": 0,
  "metadata": {
    "colab": {
      "provenance": [],
      "authorship_tag": "ABX9TyMwxkUJKEPEjQiL1iYcG4Bz",
      "include_colab_link": true
    },
    "kernelspec": {
      "name": "python3",
      "display_name": "Python 3"
    },
    "language_info": {
      "name": "python"
    }
  },
  "cells": [
    {
      "cell_type": "markdown",
      "metadata": {
        "id": "view-in-github",
        "colab_type": "text"
      },
      "source": [
        "<a href=\"https://colab.research.google.com/github/17Viktor1963/project_01/blob/main/task_3_1.ipynb\" target=\"_parent\"><img src=\"https://colab.research.google.com/assets/colab-badge.svg\" alt=\"Open In Colab\"/></a>"
      ]
    },
    {
      "cell_type": "markdown",
      "source": [
        "Задача 3.1"
      ],
      "metadata": {
        "id": "rscMXVa09Jqg"
      }
    },
    {
      "cell_type": "code",
      "source": [
        "class Matrix2D:\n",
        "  def __init__(self):\n",
        "    # создаем пустую матрицу.\n",
        "    self.matrix = []\n",
        "    self.rows = 0\n",
        "    self.columns = 0\n",
        "    self.name = 'Unnamed'\n",
        "\n",
        "  def __str__(self):\n",
        "    return self.matrix\n",
        "  def qenerate(self, roms,columns, verbose = False):\n",
        "    # возвращает список списков содержащих индексы матрицы (rom,col),и выводит\n",
        "    # его по строкам\n",
        "    self.rows = rows\n",
        "    self.columns = columns\n",
        "    self.matri = [[(row, col) for col in range(columns)] for row in range(rows)]\n",
        "    if verbose == True:\n",
        "      print(f'Сгенерированный {self.rows} строка/s {self.columns} колонка/s matrix')\n",
        "      print('_ _ _ _ _' * columns)\n",
        "      self.printme()\n",
        "      print('_ _ _ _ _' * columns)\n",
        "    return self.matrix\n",
        "\n",
        "  def printme(self, verbose =False):\n",
        "    # вводим матрицу по строкам\n",
        "    if verbose == True:\n",
        "      print(f'l am a {self.rows} row/s by {self.columns} column/s matrix')\n",
        "    for row in self.matrix:\n",
        "      print(row)\n",
        "\n",
        "  def get_row(self, n, verbose = False):\n",
        "    # возвращает строку n матрицы\n",
        "    if verbose == True:\n",
        "      print(f'matrix[row={n}]...')\n",
        "      print(self.matrix[n])\n",
        "    return self.matrix[n]\n",
        "\n",
        "  def get_col(self, n, verbose =False):\n",
        "    # возвращает столбец n матрицы\n",
        "    column_items = []\n",
        "    i = 0\n",
        "    while i < self.rows:\n",
        "      column_items.append(self.matrix[i][n])\n",
        "      i += 1\n",
        "    if verbose == True:\n",
        "      print(f'matrix[col={n}]...')\n",
        "      for item in column_items:\n",
        "        print(item)\n",
        "    return column_items\n",
        "\n",
        "  def get_cell(self, row, col, verbose = False):\n",
        "    # возвращает определенную ячейку матрицы\n",
        "    if verbose == True:\n",
        "      print(f'cell[row = {row}, col={col}]...')\n",
        "      print(self.matrix[row][col])\n",
        "    return self.matrix[row][col]\n",
        "\n",
        "  def write_cell(self, row, col, data, verbose = False):\n",
        "   # присваивает некоторые данные определенной ячейке матрицы\n",
        "    self.matrix[row][col] = data\n",
        "    if verbose == True:\n",
        "      print('Данные записанные в ячейку[row={row}, col = {col}]...')\n",
        "      print(self.matrix[row][col])\n",
        "    return self.matrix[row][col]"
      ],
      "metadata": {
        "id": "hos68hA6KkZw"
      },
      "execution_count": 19,
      "outputs": []
    }
  ]
}