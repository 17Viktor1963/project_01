{
  "nbformat": 4,
  "nbformat_minor": 0,
  "metadata": {
    "colab": {
      "provenance": [],
      "authorship_tag": "ABX9TyPdL57HsFUP0fhY5FRR60nt",
      "include_colab_link": true
    },
    "kernelspec": {
      "name": "python3",
      "display_name": "Python 3"
    },
    "language_info": {
      "name": "python"
    }
  },
  "cells": [
    {
      "cell_type": "markdown",
      "metadata": {
        "id": "view-in-github",
        "colab_type": "text"
      },
      "source": [
        "<a href=\"https://colab.research.google.com/github/17Viktor1963/project_01/blob/main/task_2_3.ipynb\" target=\"_parent\"><img src=\"https://colab.research.google.com/assets/colab-badge.svg\" alt=\"Open In Colab\"/></a>"
      ]
    },
    {
      "cell_type": "markdown",
      "source": [
        "Задача 2.3"
      ],
      "metadata": {
        "id": "flAwyfFakV1U"
      }
    },
    {
      "cell_type": "code",
      "source": [
        "num = {1:'один', 2:'два', 3:'три', 4:'четыре', 5:'пять',\\\n",
        "       6:'шесть', 7:'семь', 8:'восемь', 9:'девять'}\n",
        "def quarter(month):\n",
        "  y = int(input('Введите число от 0 до 9:  '))\n",
        "  while y == month[y]:\n",
        "    return\n",
        "  print('Вы ввели число:  ',num[y])\n",
        "\n",
        "quarter(num)"
      ],
      "metadata": {
        "id": "4kinFZ-SkbZG"
      },
      "execution_count": null,
      "outputs": []
    }
  ]
}