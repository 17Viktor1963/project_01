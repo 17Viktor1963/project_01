{
  "nbformat": 4,
  "nbformat_minor": 0,
  "metadata": {
    "colab": {
      "provenance": [],
      "authorship_tag": "ABX9TyMl/j2CsBEKTz9EY7oeviPz",
      "include_colab_link": true
    },
    "kernelspec": {
      "name": "python3",
      "display_name": "Python 3"
    },
    "language_info": {
      "name": "python"
    }
  },
  "cells": [
    {
      "cell_type": "markdown",
      "metadata": {
        "id": "view-in-github",
        "colab_type": "text"
      },
      "source": [
        "<a href=\"https://colab.research.google.com/github/17Viktor1963/project_01/blob/main/task_1_4.ipynb\" target=\"_parent\"><img src=\"https://colab.research.google.com/assets/colab-badge.svg\" alt=\"Open In Colab\"/></a>"
      ]
    },
    {
      "cell_type": "markdown",
      "source": [
        "Задача 1.4"
      ],
      "metadata": {
        "id": "FI6a8RkadZMW"
      }
    },
    {
      "cell_type": "code",
      "source": [
        "titles = {\n",
        "    'Кросовки тип 3 (Adidas)': '100000110',\n",
        "    'Мячик тип 2 (Adidas)': '100000146',\n",
        "    'Кепка тип 1 (Adidas)': '100000149',\n",
        "    'Ремень тип 2 (Nike)': '100000194',\n",
        "    'Футболка тип 1 (Adidas)': '100000224',\n",
        "    'Шапка тип 5 (Puma)': '100000280',\n",
        "}\n",
        "store = {\n",
        "    '100000110':[{'quantity': 31, 'price': 1637}],\n",
        "    '100000146':[{'quantity': 4, 'price': 45}, {'quantity': 10, 'price': 48}],\n",
        "    '100000149':[{'quantity': 28, 'price': 279}, {'quantity': 32, 'price': 291}],\n",
        "    '100000194':[{'quantity': 8, 'price': 220}, {'quantity': 1, 'price': 170}],\n",
        "    '100000224':[{'quantity': 61, 'price':438}, {'quantity':23, 'price': 302}, {'quantity': 50, 'price': 412}],\n",
        "    '100000280': [{'quantity': 26, 'price': 175}, ]\n",
        "}\n",
        "for i in titles:\n",
        "  c = 0\n",
        "  d = 0\n",
        "  for j in store[titles[i]]:\n",
        "    c = c + j['quantity'] * j['price']\n",
        "    d = d + j['quantity']\n",
        "\n",
        "\n",
        "  print(i , '-', d, 'шт., стоимость', c)"
      ],
      "metadata": {
        "id": "qBuLCrJfdjuC"
      },
      "execution_count": null,
      "outputs": []
    }
  ]
}