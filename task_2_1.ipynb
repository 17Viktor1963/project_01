{
  "nbformat": 4,
  "nbformat_minor": 0,
  "metadata": {
    "colab": {
      "provenance": [],
      "authorship_tag": "ABX9TyP4KV8pLpibpDrkQkzECYil",
      "include_colab_link": true
    },
    "kernelspec": {
      "name": "python3",
      "display_name": "Python 3"
    },
    "language_info": {
      "name": "python"
    }
  },
  "cells": [
    {
      "cell_type": "markdown",
      "metadata": {
        "id": "view-in-github",
        "colab_type": "text"
      },
      "source": [
        "<a href=\"https://colab.research.google.com/github/17Viktor1963/project_01/blob/main/task_2_1.ipynb\" target=\"_parent\"><img src=\"https://colab.research.google.com/assets/colab-badge.svg\" alt=\"Open In Colab\"/></a>"
      ]
    },
    {
      "cell_type": "markdown",
      "source": [
        "Задача 2.1"
      ],
      "metadata": {
        "id": "Wf9Lx05JWWfv"
      }
    },
    {
      "cell_type": "code",
      "source": [
        "def find_min(l):\n",
        "  min = l[0]\n",
        "  for i in l[1:]:\n",
        "    if i < min: min = i\n",
        "  return(min)\n",
        "la = [4,6,2,1,9,63,-134,566]\n",
        "print('минимум:', find_min(la))\n",
        "\n",
        "def find_max(l):\n",
        "  max = l[0]\n",
        "  for i in l[1:]:\n",
        "    if i > max: max = i\n",
        "    return(max)\n",
        "lb = [-52,56,30,29,54,0,-110]\n",
        "print('максимум:', find_max(lb))\n",
        "print('макимум:', find_max(lb),'/','минимум:',find_min(la))"
      ],
      "metadata": {
        "colab": {
          "base_uri": "https://localhost:8080/"
        },
        "id": "f7cnC2XVWcty",
        "outputId": "86f566a2-b353-41a9-c194-ffc3335f0e1b"
      },
      "execution_count": null,
      "outputs": [
        {
          "output_type": "stream",
          "name": "stdout",
          "text": [
            "минимум: -134\n",
            "максимум: 56\n",
            "макимум: 56 / минимум: -134\n"
          ]
        }
      ]
    }
  ]
}