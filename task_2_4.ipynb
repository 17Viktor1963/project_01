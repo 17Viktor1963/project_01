{
  "nbformat": 4,
  "nbformat_minor": 0,
  "metadata": {
    "colab": {
      "provenance": [],
      "authorship_tag": "ABX9TyMHBHxCs5Xm5kDJqJdogwY2",
      "include_colab_link": true
    },
    "kernelspec": {
      "name": "python3",
      "display_name": "Python 3"
    },
    "language_info": {
      "name": "python"
    }
  },
  "cells": [
    {
      "cell_type": "markdown",
      "metadata": {
        "id": "view-in-github",
        "colab_type": "text"
      },
      "source": [
        "<a href=\"https://colab.research.google.com/github/17Viktor1963/project_01/blob/main/task_2_4.ipynb\" target=\"_parent\"><img src=\"https://colab.research.google.com/assets/colab-badge.svg\" alt=\"Open In Colab\"/></a>"
      ]
    },
    {
      "cell_type": "markdown",
      "source": [
        "Задача 2.4 А"
      ],
      "metadata": {
        "id": "Zy9QVT0A8_5E"
      }
    },
    {
      "cell_type": "code",
      "source": [
        "def remove_exclamation_marks(s):\n",
        "  count = s.count('!')\n",
        "  s = s.replace('!','',count)\n",
        "  return s\n",
        "b = remove_exclamation_marks('Hi! Hello!')\n",
        "print(b)"
      ],
      "metadata": {
        "id": "WA-IwBkH9KqP"
      },
      "execution_count": null,
      "outputs": []
    },
    {
      "cell_type": "markdown",
      "source": [
        "Задача 2.4 В"
      ],
      "metadata": {
        "id": "qag_2i8qEUrJ"
      }
    },
    {
      "cell_type": "code",
      "source": [
        "def remove_last_em(s):\n",
        "  i,j = 0, len(s)\n",
        "  while i < j and s[-1] ==\"!\":\n",
        "    s = s[:-1]\n",
        "    i+=1\n",
        "    return s\n",
        "s = remove_last_em('Hi! Hello!!')\n",
        "b = remove_last_em('Hi!')\n",
        "print(s)\n",
        "print(b)"
      ],
      "metadata": {
        "colab": {
          "base_uri": "https://localhost:8080/"
        },
        "id": "a9JxXeJdEbMB",
        "outputId": "4a0b58df-8b4b-449d-a6b1-76d849d816a4"
      },
      "execution_count": 7,
      "outputs": [
        {
          "output_type": "stream",
          "name": "stdout",
          "text": [
            "Hi! Hello!\n",
            "Hi\n"
          ]
        }
      ]
    }
  ]
}