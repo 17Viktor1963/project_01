{
  "nbformat": 4,
  "nbformat_minor": 0,
  "metadata": {
    "colab": {
      "provenance": [],
      "authorship_tag": "ABX9TyMVtIUvmwOV5gEUC5Dn9dlt",
      "include_colab_link": true
    },
    "kernelspec": {
      "name": "python3",
      "display_name": "Python 3"
    },
    "language_info": {
      "name": "python"
    }
  },
  "cells": [
    {
      "cell_type": "markdown",
      "metadata": {
        "id": "view-in-github",
        "colab_type": "text"
      },
      "source": [
        "<a href=\"https://colab.research.google.com/github/17Viktor1963/project_01/blob/main/task_1_3.ipynb\" target=\"_parent\"><img src=\"https://colab.research.google.com/assets/colab-badge.svg\" alt=\"Open In Colab\"/></a>"
      ]
    },
    {
      "cell_type": "code",
      "execution_count": null,
      "metadata": {
        "id": "XDW4Aha63yu5"
      },
      "outputs": [],
      "source": []
    },
    {
      "cell_type": "markdown",
      "source": [],
      "metadata": {
        "id": "N6x2zCx539qW"
      }
    },
    {
      "cell_type": "markdown",
      "source": [
        "Задача 1.3"
      ],
      "metadata": {
        "id": "0vCNh5cT39rz"
      }
    },
    {
      "cell_type": "code",
      "source": [
        "name =int(input('Введите номер месяца: '))\n",
        "if (name < 1 or name > 12):\n",
        "  print('Такого номера месяца не существует')\n",
        "elif(name == 1):\n",
        "  print('Вы ввели январь. 31 день')\n",
        "elif(name == 2):\n",
        "  print('Вы ввели февраль. 28 дней')\n",
        "elif(name == 3):\n",
        "  print('Вы ввели март. 31 день')\n",
        "elif(name == 4):\n",
        "  print('Вы ввели апрель. 30 дней')\n",
        "elif(name == 5):\n",
        "  print('Вы ввели май. 31 день')\n",
        "elif(name == 6):\n",
        "  print('Вы ввели июнь. 30 дней')\n",
        "elif(name == 7):\n",
        "  print('Вы ввели июль. 31 день')\n",
        "elif(name ==8):\n",
        "  print('Вы ввели август. 31 день')\n",
        "elif(name ==9):\n",
        "  print('Вы ввели сентябрь. 30 дней')\n",
        "elif(name == 10):\n",
        "  print('Вы ввели октябрь. 31 день')\n",
        "elif(name ==11):\n",
        "  print('Вы ввели ноябрь. 30 дней')\n",
        "elif(name == 12):\n",
        "  print('Вы ввели декабрь. 31 день')\n",
        "else:\n",
        "  print(int(input('Введите номер месяца: ')))\n",
        "\n",
        "\n"
      ],
      "metadata": {
        "id": "q__-36Lv4Dj8"
      },
      "execution_count": null,
      "outputs": []
    }
  ]
}