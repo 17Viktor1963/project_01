{
  "nbformat": 4,
  "nbformat_minor": 0,
  "metadata": {
    "colab": {
      "provenance": [],
      "toc_visible": true,
      "authorship_tag": "ABX9TyNFKfYW4RVtdgHh4hmrl8ua",
      "include_colab_link": true
    },
    "kernelspec": {
      "name": "python3",
      "display_name": "Python 3"
    },
    "language_info": {
      "name": "python"
    }
  },
  "cells": [
    {
      "cell_type": "markdown",
      "metadata": {
        "id": "view-in-github",
        "colab_type": "text"
      },
      "source": [
        "<a href=\"https://colab.research.google.com/github/17Viktor1963/project_01/blob/main/task_1_2.ipynb\" target=\"_parent\"><img src=\"https://colab.research.google.com/assets/colab-badge.svg\" alt=\"Open In Colab\"/></a>"
      ]
    },
    {
      "cell_type": "markdown",
      "source": [
        "Задача 1.2 Пункт А,C\n"
      ],
      "metadata": {
        "id": "_MkfqDIAwy_4"
      }
    },
    {
      "cell_type": "code",
      "source": [
        "from datetime import time\n",
        "import random\n",
        "my_favorite_songs = [\n",
        "    ['Waste a Moment', 3.03],\n",
        "    ['New Salvation', 4.02],\n",
        "    ['Staying\\' Alive', 3.40],\n",
        "    ['Out of Touch', 3.03],\n",
        "    ['A Sorta Fairytale', 5.28],\n",
        "    ['Easy', 4.15],\n",
        "    ['Beautiful Day', 4.04],\n",
        "    ['Nowhere to Rum', 2.50],\n",
        "    ['In This World', 4.02],\n",
        "]\n",
        "songs = random.sample(my_favorite_songs,3) #выводим три случайных песни из списка\n",
        "time_songs = (songs[0][1]+songs[1][1] + songs[2][1]) # высчитываем общее время звучания\n",
        "print(songs) # три случайные песни из списка\n",
        "print('Три песни звучат:',time_songs,'минут')  #  выводим время на печать\n",
        "print('Три песни звучат:',round(time_songs),'минут') # выводим время на печать,округляем в большую сторону.\n",
        "\n",
        "p = str(time_songs).replace('.', ',')\n",
        "y = p.split(',')\n",
        "y.insert(0,'0')\n",
        "\n",
        "print(y)\n",
        "t= [0,2,3]\n",
        "v = tuple(t)\n",
        "print(v)\n",
        "t_1 = time v\n",
        "print(t_1)\n",
        "\n",
        "\n"
      ],
      "metadata": {
        "id": "cSNUNFOE_kpF"
      },
      "execution_count": null,
      "outputs": []
    },
    {
      "cell_type": "markdown",
      "source": [
        "Задача 1.2 Пункт А\n",
        "вариант 2"
      ],
      "metadata": {
        "id": "x8bCXZsRsr_O"
      }
    },
    {
      "cell_type": "code",
      "source": [
        "import random\n",
        "my_favorite_songs =[\n",
        "    ['Waste a Moment', 3.03],\n",
        "    ['New Salvation', 4.02],\n",
        "    ['Staying\\' Alive', 3.40],\n",
        "    ['Out of Touch', 3.03],\n",
        "    ['A Sorta Fairytale', 5.28],\n",
        "    ['Easy', 4.15],\n",
        "    ['Beautiful Day', 4.04],\n",
        "    ['Nowhere to Rum', 2.50],\n",
        "    ['In This World', 4.02],\n",
        "]\n",
        "songs = random.sample(my_favorite_songs,3)\n",
        "sum = 0\n",
        "for i in songs:\n",
        "  sum_time = sum + i[1]\n",
        "print('Три песни звучат:',sum_time, 'минут')\n",
        "print('Три песни звучат:',round(sum_time),'минут')"
      ],
      "metadata": {
        "id": "wMngrvJg5AQK"
      },
      "execution_count": null,
      "outputs": []
    },
    {
      "cell_type": "markdown",
      "source": [
        "Задача 1.2 Пункт В,C"
      ],
      "metadata": {
        "id": "LsuRh36O1iaw"
      }
    },
    {
      "cell_type": "code",
      "source": [
        "import random\n",
        "my_favorite_songs = {\n",
        "   'Waste a Moment': 3.03,\n",
        "   'New Salvation': 4.02,\n",
        "   'Staying\\' Alive': 3.40,\n",
        "   'Out of Touch': 3.03,\n",
        "   'A Sorta Fairytale': 5.28,\n",
        "   'Easy': 4.15,\n",
        "   'Beautiful Day': 4.04,\n",
        "   'Nowhere to Rum': 2.50,\n",
        "   'In This World': 4.02,\n",
        "}\n",
        "congs = my_favorite_songs.items()\n",
        "cong = random.sample(congs,3)\n",
        "print(cong)\n",
        "time_cong = (cong[0][1] + cong[1][1] + cong[2][1])\n",
        "print('Три песни звучат:',time_cong,'минут')\n",
        "print('Три песни звучать:',round(time_cong),'минут')"
      ],
      "metadata": {
        "id": "EVFe9HWB802v"
      },
      "execution_count": null,
      "outputs": []
    },
    {
      "cell_type": "markdown",
      "source": [
        "Задача 1.2 Пункт В\n",
        "вариант2"
      ],
      "metadata": {
        "id": "ENtre5-537et"
      }
    },
    {
      "cell_type": "code",
      "source": [
        "from re import A\n",
        "import random\n",
        "my_favorite_songs = {\n",
        "    'Waste a Moment': 3.03,\n",
        "    'New Salvation': 4.02,\n",
        "    'Staying\\' Alive': 3.40,\n",
        "    'Out of Touch': 3.03,\n",
        "    'A Sorta Fairytale': 5.28,\n",
        "    'Easy': 4.15,\n",
        "    'Beautiful Day': 4.40,\n",
        "    'Nowhere to Rum': 2.50,\n",
        "    'In This World': 4.02,\n",
        "}\n",
        "congs = [[key,value] for key,value in my_favorite_songs.items()]\n",
        "print(congs) # преобразуем словарь в строку\n",
        "cong = random.sample(congs,3) # выводим три случайные песни\n",
        "print(cong)\n",
        "sum = 0\n",
        "for i in cong:\n",
        "  sum_time = sum + i[1]\n",
        "print('Три песни звучат:',sum_time,'минут') # выводим общую сумму звучания треков\n",
        "print('Три песни звучат:',round(sum_time),'минут')# округляем до целых\n",
        "\n"
      ],
      "metadata": {
        "id": "M-57sVQt4H1J"
      },
      "execution_count": null,
      "outputs": []
    }
  ]
}