{
  "nbformat": 4,
  "nbformat_minor": 0,
  "metadata": {
    "colab": {
      "provenance": [],
      "authorship_tag": "ABX9TyP/fR71GqtVC36qex6N4nlz",
      "include_colab_link": true
    },
    "kernelspec": {
      "name": "python3",
      "display_name": "Python 3"
    },
    "language_info": {
      "name": "python"
    }
  },
  "cells": [
    {
      "cell_type": "markdown",
      "metadata": {
        "id": "view-in-github",
        "colab_type": "text"
      },
      "source": [
        "<a href=\"https://colab.research.google.com/github/17Viktor1963/project_01/blob/main/task_4_1.ipynb\" target=\"_parent\"><img src=\"https://colab.research.google.com/assets/colab-badge.svg\" alt=\"Open In Colab\"/></a>"
      ]
    },
    {
      "cell_type": "markdown",
      "source": [
        "Задача 4.1"
      ],
      "metadata": {
        "id": "YztXyDInHPNQ"
      }
    },
    {
      "cell_type": "code",
      "source": [
        "import sqlite3\n",
        "\n",
        "#создание таблицы студентов\n",
        "connection = sqlite3.connect(\"teachers.db\")\n",
        "cursor = connection.cursor()\n",
        "query = \"\"\"CREATE TABLE Student (\n",
        "Student_id INTEGER NOT NULL PRIMARY KEY,\n",
        "Student_Name TEXT NOT NULL);\"\"\"\n",
        "cursor.execute(query)\n",
        "connection.commit()\n",
        "connection.close()\n",
        ""
      ],
      "metadata": {
        "id": "YOLgh_MTHWYk"
      },
      "execution_count": 83,
      "outputs": []
    },
    {
      "cell_type": "code",
      "source": [
        "import sqlite3\n",
        "\n",
        "#наполнение таблицы студентов\n",
        "connection = sqlite3.connect(\"teachers.db\")\n",
        "cursor = connection.cursor()\n",
        "query = \"\"\"INSERT INTO Student (Student_id , Student_Name )\n",
        "VALUES\n",
        "(201, 'Иван'),\n",
        "(202, 'Петр'),\n",
        "(203, 'Анастасия'),\n",
        "(204, 'Игорь');\"\"\"\n",
        "cursor.execute(query)\n",
        "connection.commit()\n",
        "connection.close()"
      ],
      "metadata": {
        "id": "59_lOEv4Rksy"
      },
      "execution_count": 86,
      "outputs": []
    },
    {
      "cell_type": "code",
      "source": [
        "import sqlite3\n",
        "\n",
        "#создание таблицы название школы\n",
        "connection = sqlite3.connect(\"teacher.db\")\n",
        "cursor = connection.cursor()\n",
        "query = \"\"\"CREATE TABLE School (\n",
        "School_id INTEGER NOT NULL PRIMARY KEY,\n",
        "School_Name TEXT NOT NULL);\"\"\"\n",
        "cursor.execute(query)\n",
        "connection.commit()\n",
        "connection.close()"
      ],
      "metadata": {
        "id": "J2TTqgXFYfOU"
      },
      "execution_count": 65,
      "outputs": []
    },
    {
      "cell_type": "code",
      "source": [
        "import sqlite3\n",
        "\n",
        "#наполнение таблицы название школы\n",
        "connection = sqlite3.connect(\"teacher.db\")\n",
        "cursor = connection.cursor()\n",
        "query = \"\"\"INSERT INTO School (School_id , School_Name )\n",
        "VALUES\n",
        "('1', 1),\n",
        "('2', 2),\n",
        "('3', 3),\n",
        "('4', 4);\"\"\"\n",
        "cursor.execute(query)\n",
        "connection.commit()\n",
        "connection.close()"
      ],
      "metadata": {
        "id": "JLG7GYb1caHr"
      },
      "execution_count": 67,
      "outputs": []
    },
    {
      "cell_type": "code",
      "source": [
        "import sqlite3\n",
        "def get_connection():\n",
        "  connection =sqlite3.connect('teachers.db')\n",
        "  return connection\n",
        "def close_connection(connection):\n",
        "  if connection:\n",
        "    connection.close()\n",
        "def get_student(student_id):\n",
        "  try:\n",
        "    connection = get_connection()\n",
        "    curcor = connection.curcor()\n",
        "    query = \"SELECT * FROM  Student WHERE Student_id =?\"\n",
        "    cursor.execute(query,(student_id,))\n",
        "    record = cursor.fetchall()\n",
        "    print(record)\n",
        "    close_connection(connection)\n",
        "  except (Exception,sqlite3.Error) as error:\n",
        "    print('Ошибка в получении данных',error)\n",
        "\n",
        "\n"
      ],
      "metadata": {
        "id": "jkwAmbLtkL_U"
      },
      "execution_count": null,
      "outputs": []
    }
  ]
}