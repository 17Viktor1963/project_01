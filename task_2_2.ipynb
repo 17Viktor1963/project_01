{
  "nbformat": 4,
  "nbformat_minor": 0,
  "metadata": {
    "colab": {
      "provenance": [],
      "authorship_tag": "ABX9TyMWuui58AueFVYPP3uEezdf",
      "include_colab_link": true
    },
    "kernelspec": {
      "name": "python3",
      "display_name": "Python 3"
    },
    "language_info": {
      "name": "python"
    }
  },
  "cells": [
    {
      "cell_type": "markdown",
      "metadata": {
        "id": "view-in-github",
        "colab_type": "text"
      },
      "source": [
        "<a href=\"https://colab.research.google.com/github/17Viktor1963/project_01/blob/main/task_2_2.ipynb\" target=\"_parent\"><img src=\"https://colab.research.google.com/assets/colab-badge.svg\" alt=\"Open In Colab\"/></a>"
      ]
    },
    {
      "cell_type": "markdown",
      "source": [
        "задача 2.2"
      ],
      "metadata": {
        "id": "oGsdZ_xNgNay"
      }
    },
    {
      "cell_type": "code",
      "source": [
        "\n",
        "x = int(input('Введите порядковый номер месяца:'))\n",
        "if x<1 or x>12:\n",
        "  print('такого порядкового номера месяца нет')\n",
        "\n",
        "la = {\n",
        "    1: 'январь',\n",
        "    2: 'Февраль',\n",
        "    3: 'март',\n",
        "    4: 'апрель',\n",
        "    5: 'май',\n",
        "    6: 'июнь',\n",
        "    7: 'июль',\n",
        "    8: 'август',\n",
        "    9: 'сентябрь',\n",
        "    10: 'октябрь',\n",
        "    11: 'ноябрь',\n",
        "    12: 'декабрь'\n",
        "}\n",
        "for song, mont in la.items():\n",
        "  if song == x:\n",
        "    print('месяц',x,'(',mont,')',quater_of(x))\n",
        "def quater_of(x):\n",
        "  if x in [1,2,3]:\n",
        "    return 'первый квартал'\n",
        "  elif x in [4,5,6]:\n",
        "    return 'второй квартал'\n",
        "  elif x in [7,8,9]:\n",
        "    return 'третий квартал'\n",
        "  elif x in [10,11,12]:\n",
        "    return 'четвертый квартал'\n"
      ],
      "metadata": {
        "id": "X1rhEu7RxhPQ"
      },
      "execution_count": null,
      "outputs": []
    }
  ]
}